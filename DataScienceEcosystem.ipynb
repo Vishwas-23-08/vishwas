{
 "cells": [
  {
   "cell_type": "markdown",
   "id": "68002d77-20d2-4e12-8461-7b5a09487b0d",
   "metadata": {},
   "source": [
    "Data Science Tools and Ecosystem"
   ]
  },
  {
   "cell_type": "markdown",
   "id": "c5d57a42-ecda-448a-8df5-40b19e3f97b8",
   "metadata": {},
   "source": [
    "# Data Science Tools and Ecosystem"
   ]
  },
  {
   "cell_type": "markdown",
   "id": "54527f6d-ba7d-471b-841c-0a799f503b76",
   "metadata": {},
   "source": [
    "In this notebook, Data Science Tools and Ecosystem are summarized."
   ]
  },
  {
   "cell_type": "markdown",
   "id": "a80b9a62-329d-485a-85cf-69caf2b9797d",
   "metadata": {},
   "source": [
    "**Objectives:**\n",
    "\n",
    "- List popular languages for Data Science  \n",
    "- Identify commonly used libraries in Data Science  \n",
    "- Create and format Markdown cells in Jupyter Notebooks  \n",
    "- Perform basic arithmetic operations using Python  \n",
    "- Understand and use open-source tools for Data Science\n"
   ]
  },
  {
   "cell_type": "markdown",
   "id": "d6c1d281-bd07-42ba-95ae-87cf10f4040e",
   "metadata": {},
   "source": [
    "Some of the popular languages that Data Scientists use are:\n",
    "- Python  \n",
    "- R  \n",
    "- SQL  \n",
    "- Julia  \n",
    "- Scala"
   ]
  },
  {
   "cell_type": "markdown",
   "id": "eae85234-6350-4312-a996-65d529e25341",
   "metadata": {},
   "source": [
    "## Commonly Used Data Science Libraries\n",
    "Some of the commonly used libraries used by Data Scientists include:\n",
    "- NumPy\n",
    "- Pandas\n",
    "- Matplotlib\n",
    "- Seaborn\n",
    "- PyTorch\n",
    "- TensorFlow"
   ]
  },
  {
   "cell_type": "markdown",
   "id": "bdebc75b-7ea0-4921-a563-b53906ec9a34",
   "metadata": {},
   "source": [
    "| Data Science Tools        |\n",
    "|---------------------------|\n",
    "| Jupyter Notebook          |\n",
    "| RStudio                   |\n",
    "| Apache Zeppelin           |\n"
   ]
  },
  {
   "cell_type": "markdown",
   "id": "51ffb571-9d3a-4f9f-8175-0b2b63d49181",
   "metadata": {},
   "source": [
    "### Below are a few examples of evaluating arithmetic expressions in Python\n",
    "# Addition\n",
    "3 + 5         # Output: 8\n",
    "\n",
    "# Subtraction\n",
    "10 - 4        # Output: 6\n",
    "\n",
    "# Multiplication\n",
    "6 * 7         # Output: 42\n",
    "\n",
    "# Division\n",
    "20 / 4        # Output: 5.0\n",
    "\n",
    "# Exponentiation\n",
    "2 ** 3        # Output: 8\n",
    "\n",
    "# Modulus (Remainder)\n",
    "10 % 3        # Output: 1\n",
    "\n",
    "# Floor Division\n",
    "15 // 2       # Output: 7\n",
    "\n"
   ]
  },
  {
   "cell_type": "code",
   "execution_count": 1,
   "id": "f402e436-bf7d-4d4d-a3a8-769f5071c605",
   "metadata": {},
   "outputs": [
    {
     "data": {
      "text/plain": [
       "17"
      ]
     },
     "execution_count": 1,
     "metadata": {},
     "output_type": "execute_result"
    }
   ],
   "source": [
    "# This is a simple arithmetic expression to multiply then add integers\n",
    "(3 * 4) + 5\n"
   ]
  },
  {
   "cell_type": "code",
   "execution_count": 2,
   "id": "2dd16fa9-ba80-4f2d-8aaf-858c99b3aafd",
   "metadata": {},
   "outputs": [
    {
     "data": {
      "text/plain": [
       "3.3333333333333335"
      ]
     },
     "execution_count": 2,
     "metadata": {},
     "output_type": "execute_result"
    }
   ],
   "source": [
    "# This will convert 200 minutes to hours by dividing by 60\n",
    "200 / 60\n"
   ]
  },
  {
   "cell_type": "markdown",
   "id": "bfb18b4b-6dce-4604-818e-a36518da9c42",
   "metadata": {},
   "source": [
    "## Author\n",
    "\n",
    "Vishwas Nalathwad\n"
   ]
  },
  {
   "cell_type": "code",
   "execution_count": null,
   "id": "2dab7a78-7194-4159-9910-d66b8d35eafb",
   "metadata": {},
   "outputs": [],
   "source": []
  }
 ],
 "metadata": {
  "kernelspec": {
   "display_name": "Python 3 (ipykernel)",
   "language": "python",
   "name": "python3"
  },
  "language_info": {
   "codemirror_mode": {
    "name": "ipython",
    "version": 3
   },
   "file_extension": ".py",
   "mimetype": "text/x-python",
   "name": "python",
   "nbconvert_exporter": "python",
   "pygments_lexer": "ipython3",
   "version": "3.12.8"
  }
 },
 "nbformat": 4,
 "nbformat_minor": 5
}
